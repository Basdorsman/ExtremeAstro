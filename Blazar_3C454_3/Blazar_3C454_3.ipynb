{
 "cells": [
  {
   "cell_type": "markdown",
   "metadata": {},
   "source": [
    "# Blazar 3C454.3\n",
    "\n",
    "## Project:\n",
    "Blazar 3C454.3: model jet as a moving single sphere or cone (same geometry as M87) case but Γ=15, and photon field is from a dusty surrounding torus with temperature of 370k and with a luminosity of a few 1045-46 erg/s. A power law of electrons in equipartition with the magnetic field creates synchrotron emission, then upscatters the synchrotron photons (SSC) in a region of moderate optical depth (τ ~0.1, but play with different values). Take a moderate optical depth similar to M87, vary it . If you want a challenge, put half the total initial energy into a power law of protons and estimate gamma-rays from neutral pion decay.\n",
    "\n",
    "## What to do:\n",
    "The goal of your final project is to try your hand at implementing the common radiative processes occurring in high-energy astrophysics, that you have been learning about, to model a real source. Plus you will get valuable coding experience, and the tools you will use are generic to many problems in physics, in particular the Monte Carlo technique, and how to deal with probabilities in real applications. It will be a challenging project, but I guarantee that once you are done you will have a deeper understanding of how we make predictions of spectra from real systems, plus you will have something to put on your CV that will make you look very attractive to prospective future PhD advisors!\n",
    "\n",
    "Although the “kernel” of your codes will be similar at least for the inverse Compton part, you will each be applying it to a different type of situation/source. Once you have your source (see below for some examples) you will need to do a literature search to find out more about relevant assumptions and physical parameters to use. For example: mass, distance, the electron population doing the radiating/scattering, the appropriate photon field(s) to scatter off of, as well as the geometry required. Use the existing data on the source as a guideline only, i.e., don’t attempt a statistical fit of your model to the data, but definitely do assess in your report how close you can get (or not) and explain why you think the model works, or why it doesn’t. The idea is not that you get things exactly right, you will obviously need to make simplifications, but you should be able to make a reasonable approximation to the source spectrum, be able to justify your choices and verify that your code is doing things correctly. Verification is one of the most important skills in research, so in your write-up you should use formulae from the course to demonstrate that your code is doing what you think it should be doing, based on predictions made with the parameters you used!\n",
    "\n",
    "## Monte Carlo:\n",
    "Thanks to Sebastian Heinz for his IC Jupyter notebook, that you can use to get you started with the MC IC scattering kernel, you only need to build the other parts of your project, including other radiation sources potentially.\n",
    "\n",
    "One of the key steps is to keep track of the total number of photons (so please remember to keep track) so that you can normalise your spectrum properly. This is one of the most crucial steps because without proper normalization, your spectrum will not be physically meaningful, and we expect to see normalized results!\n",
    "\n",
    "If you want a bit more background, most treatments today are based on a famous paper: Pozdnyakov, Sobol & Sunyaev (1983), which has a very good description of how this process works in practice, in its appendix.\n",
    "\n",
    "## What to hand in:\n",
    "When everything is finished please write up a short report including:\n",
    "\n",
    "1) A short (couple pages of text max) report about what you did exactly, what geometry and physical parameters you used and why, with references to the literature.\n",
    "\n",
    "2) Some figures showing your input photon fields for IC, and then the final spectrum including inverse Compton, along with data from your source for a rough comparison (order of mag!).\n",
    "\n",
    "3) Include some order of magnitude calculations to show that your results are sensible for the\n",
    "system. Make very clear that you have normalised correctly, and label your axes with physical units on all plots! Justify that you have a reasonable model or explain why you think there is a problem (even if you cannot figure out how to fix it!).\n",
    "\n",
    "4) Along with your report, please also submit your code. This can either be a python notebook or else a compressed directory of the code and all files needed to compile and run it on a linux system, plus a description of any compilation command you used. We will be looking at your codes and want to run it...and we must be able to run it successfully so please test it on a system other than your own to make sure what you send works!\n",
    "\n",
    "## General tips:\n",
    "Beyond the Pozdnyakov et al. paper, you will likely find Numerical Recipes by Press very useful, and I’m sure there are tons of other good sources for this on the web. I have also posted a couple of excerpts from my colleague Jörn Wilms about handling the unpolarized Thomson cross section/angles in the Monte Carlo, and about ray tracing probabilities, that might help you think about the geometry a bit.\n",
    "\n",
    "## Useful links:\n",
    "https://en.wikipedia.org/wiki/3C_454.3\n",
    "http://simbad.u-strasbg.fr/simbad/sim-basic?Ident=3C+454.3&submit=SIMBAD+search#lab_bib"
   ]
  },
  {
   "cell_type": "code",
   "execution_count": 1,
   "metadata": {},
   "outputs": [
    {
     "name": "stdout",
     "output_type": "stream",
     "text": [
      "Hello World!\n"
     ]
    }
   ],
   "source": [
    "print(\"Hello World!\")"
   ]
  },
  {
   "cell_type": "code",
   "execution_count": null,
   "metadata": {},
   "outputs": [],
   "source": []
  }
 ],
 "metadata": {
  "kernelspec": {
   "display_name": "Python 3",
   "language": "python",
   "name": "python3"
  },
  "language_info": {
   "codemirror_mode": {
    "name": "ipython",
    "version": 3
   },
   "file_extension": ".py",
   "mimetype": "text/x-python",
   "name": "python",
   "nbconvert_exporter": "python",
   "pygments_lexer": "ipython3",
   "version": "3.7.6"
  }
 },
 "nbformat": 4,
 "nbformat_minor": 4
}
