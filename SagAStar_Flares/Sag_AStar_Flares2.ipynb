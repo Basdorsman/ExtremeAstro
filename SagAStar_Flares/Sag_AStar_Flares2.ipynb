{
 "cells": [
  {
   "cell_type": "markdown",
   "metadata": {},
   "source": [
    "# Flaring spectrum\n",
    "(Yuan et al. 2003)\n",
    "![title](img/flaringspectrum.png)"
   ]
  },
  {
   "cell_type": "code",
   "execution_count": 1,
   "metadata": {},
   "outputs": [],
   "source": [
    "import numpy as np\n",
    "import matplotlib.pyplot as plt\n",
    "import scipy\n",
    "import scipy.integrate as integrate\n",
    "from scipy.integrate import quad\n",
    "from scipy.special import kv, gamma"
   ]
  },
  {
   "cell_type": "code",
   "execution_count": 2,
   "metadata": {},
   "outputs": [],
   "source": [
    "m_e=9.1*10**-28   # Electron mass [g]\n",
    "e=5*10**-10       # Electron charge [esu]\n",
    "k=1.4*10**-16     # Boltzmann constnat [erg/K]\n",
    "c_light=3*10**10  # Speed of light [cm/s]\n",
    "B_0=20               # Magnetic field [Gauss]\n",
    "theta=np.pi/2     # Synchroton angle between velocity and field [rad]\n",
    "hbar=10**-27      # Reduced planck constant [erg s]\n",
    "sigma_t=6.65e-25  # Thomson cross section\n",
    "\n",
    "\n",
    "log_omega_min=10\n",
    "log_omega_max=22\n",
    "\n",
    "log_gamma_min=1\n",
    "log_gamma_max=6\n"
   ]
  },
  {
   "cell_type": "markdown",
   "metadata": {},
   "source": [
    "# Power law electons\n",
    "\n",
    "$$\n",
    " N(\\gamma) d\\gamma = N_0 \\gamma^{-p} d\\gamma, \\space \\gamma_{min} \\leq \\gamma \\leq \\gamma_c,\n",
    "$$\n",
    "\n",
    "$$\n",
    " N(\\gamma) d\\gamma = N_0 \\gamma_c \\gamma^{-p-1} d\\gamma, \\space \\gamma_c \\leq \\gamma \\leq \\gamma_{max}.\n",
    "$$\n",
    "$p=1$, $\\gamma_{max}=10^6$ and a cooling break at $\\sim 10^{13}$Hz (Yuan 2003). Lastly only a portion of the thermal electrons get injected into a power law.\n",
    "\n",
    "$$\n",
    "N_{0,pl}=\\eta N_{0,th},\n",
    "$$\n",
    "where $\\eta=0.055$."
   ]
  },
  {
   "cell_type": "code",
   "execution_count": 3,
   "metadata": {},
   "outputs": [
    {
     "name": "stdout",
     "output_type": "stream",
     "text": [
      "The normalization factor is 1.000e+00\n"
     ]
    }
   ],
   "source": [
    "p=1\n",
    "gamma_c=10**1\n",
    "\n",
    "def N_powerlaw_electrons(gamma):\n",
    "    if gamma<gamma_c:\n",
    "        value = gamma**-p\n",
    "    else:\n",
    "        value= gamma_c*gamma**(-p-1)\n",
    "    return(value)\n",
    "\n",
    "\n",
    "norm,error=quad(N_powerlaw_electrons,10**log_gamma_min,10**log_gamma_max) # Normalization value, necessary because a cumulative propability distribution function goes to 1. \n",
    "                                                                          # The normalization factor is whatever value I have to devide the distribution by to get a PDF with a surface value of 1.\n",
    "\n",
    "print('The normalization factor is {0:5.3e}'.format(norm))\n",
    "def N_electron_PDF(gamma):\n",
    "    return(N_powerlaw_electrons(gamma)/norm)"
   ]
  },
  {
   "cell_type": "code",
   "execution_count": 4,
   "metadata": {},
   "outputs": [
    {
     "name": "stdout",
     "output_type": "stream",
     "text": [
      "The expectation value of gamma is 1.151e+02\n",
      "N_0 is 9.283e+03, and carries units cm-3\n"
     ]
    }
   ],
   "source": [
    "def expectance_gamma(gamma_min,gamma_max):\n",
    "    def integrand_1(gamma):\n",
    "        value=gamma*N_electron_PDF(gamma)\n",
    "        return(value)\n",
    "    value,error=quad(integrand_1,gamma_min,gamma_max)\n",
    "    return(value)\n",
    "\n",
    "exp_gamma = expectance_gamma(10**log_gamma_min,10**log_gamma_max)\n",
    "print('The expectation value of gamma is {0:5.3e}'.format(exp_gamma))\n",
    "\n",
    "\n",
    "def numberdensity(B):\n",
    "    value=B**2/(8*np.pi*exp_gamma*m_e*c_light**2)\n",
    "    return(value)\n",
    "\n",
    "eta=0.055\n",
    "N_0=eta*numberdensity(B_0)\n",
    "print('N_0 is {0:5.3e}, and carries units cm-3'.format(N_0))"
   ]
  },
  {
   "cell_type": "code",
   "execution_count": 5,
   "metadata": {},
   "outputs": [
    {
     "data": {
      "image/png": "[encoded data removed]",
      "text/plain": [
       "<Figure size 432x288 with 1 Axes>"
      ]
     },
     "metadata": {
      "needs_background": "light"
     },
     "output_type": "display_data"
    }
   ],
   "source": [
    "number = 100\n",
    "N=np.zeros(number)\n",
    "gamma = np.logspace(1,6,number)\n",
    "\n",
    "for i in range(number):\n",
    "    N[i]=N_0*N_electron_PDF(gamma[i])\n",
    "\n",
    "plt.loglog(gamma,N)\n",
    "plt.xlabel('$\\gamma$',fontsize=20)\n",
    "plt.ylabel('N($\\gamma$)',fontsize=20)\n",
    "plt.show()"
   ]
  },
  {
   "cell_type": "markdown",
   "metadata": {},
   "source": [
    "# Synchroton Photons"
   ]
  },
  {
   "cell_type": "code",
   "execution_count": 6,
   "metadata": {},
   "outputs": [],
   "source": [
    "def omega_c(gamma,B,theta):\n",
    "    value=3/2*gamma**2*e*B/(m_e*c_light)*np.sin(theta)\n",
    "    return(value)\n",
    "\n",
    "def K_fivethird(x):\n",
    "    value=kv(5/3,x)\n",
    "    return(value)\n",
    "\n",
    "def F_sync(omega,omega_c):\n",
    "    x=omega/omega_c\n",
    "    output_integral,error=quad(K_fivethird,x,np.inf)\n",
    "    value=x*output_integral\n",
    "    return(value)\n",
    "\n",
    "def P_sync(gamma,omega,B,theta):\n",
    "    value = np.sqrt(3)*e**3*B*np.sin(theta)/(2*np.pi*m_e*c_light**2)*F_sync(omega,omega_c(gamma,B,theta))\n",
    "    return(value)"
   ]
  },
  {
   "cell_type": "code",
   "execution_count": 7,
   "metadata": {},
   "outputs": [],
   "source": [
    "def P_tot(log_gamma_min,log_gamma_max,omega,B,theta):\n",
    "    def P_of_gamma(gamma):                            #integration only takes single variable functions\n",
    "        value=P_sync(gamma,omega,B,theta)\n",
    "        return(value)\n",
    "    def integrand_2(gamma):\n",
    "        value=N_0*N_powerlaw_electrons(gamma)*P_of_gamma(gamma)\n",
    "        return(value)\n",
    "    output,error=quad(integrand_2,10**log_gamma_min,10**log_gamma_max)\n",
    "    value=output/(4*np.pi)\n",
    "    return(output)"
   ]
  },
  {
   "cell_type": "code",
   "execution_count": 8,
   "metadata": {},
   "outputs": [
    {
     "name": "stderr",
     "output_type": "stream",
     "text": [
      "C:\\Users\\super\\Anaconda3\\lib\\site-packages\\ipykernel_launcher.py:11: IntegrationWarning: The integral is probably divergent, or slowly convergent.\n",
      "  # This is added back by InteractiveShellApp.init_path()\n",
      "C:\\Users\\super\\Anaconda3\\lib\\site-packages\\ipykernel_launcher.py:11: IntegrationWarning: The algorithm does not converge.  Roundoff error is detected\n",
      "  in the extrapolation table.  It is assumed that the requested tolerance\n",
      "  cannot be achieved, and that the returned result (if full_output = 1) is \n",
      "  the best which can be obtained.\n",
      "  # This is added back by InteractiveShellApp.init_path()\n",
      "C:\\Users\\super\\Anaconda3\\lib\\site-packages\\ipykernel_launcher.py:11: IntegrationWarning: The maximum number of subdivisions (50) has been achieved.\n",
      "  If increasing the limit yields no improvement it is advised to analyze \n",
      "  the integrand in order to determine the difficulties.  If the position of a \n",
      "  local difficulty can be determined (singularity, discontinuity) one will \n",
      "  probably gain from splitting up the interval and calling the integrator \n",
      "  on the subranges.  Perhaps a special-purpose integrator should be used.\n",
      "  # This is added back by InteractiveShellApp.init_path()\n"
     ]
    },
    {
     "data": {
      "image/png": "[encoded data removed]",
      "text/plain": [
       "<Figure size 432x288 with 1 Axes>"
      ]
     },
     "metadata": {
      "needs_background": "light"
     },
     "output_type": "display_data"
    }
   ],
   "source": [
    "number=100\n",
    "omega=np.logspace(log_omega_min,log_omega_max,number)\n",
    "\n",
    "\n",
    "P=np.zeros(number)\n",
    "\n",
    "for i in range(number):\n",
    "    P[i]=P_tot(log_gamma_min,log_gamma_max,omega[i],B_0,theta)\n",
    "\n",
    "plt.plot(omega,omega*P, label='$P(\\omega)$')\n",
    "plt.legend()\n",
    "plt.xscale('log')\n",
    "plt.yscale('log')\n",
    "plt.title(r'Emissivity',fontsize=20)\n",
    "plt.xlabel(r'$\\omega$[rad/s]',fontsize=20)\n",
    "plt.ylabel(r'$\\omega \\epsilon$[erg s$^{-1}$ cm$^{-3}$ sr$^{-1}$]',fontsize=20)\n",
    "plt.show()\n"
   ]
  },
  {
   "cell_type": "markdown",
   "metadata": {},
   "source": [
    "$$\n",
    "    L=\\int I dA d\\Omega = \\int R\\epsilon  dA d\\Omega = \\frac{(4 \\pi)^2}{3}R^3\\epsilon\n",
    "$$"
   ]
  },
  {
   "cell_type": "code",
   "execution_count": 9,
   "metadata": {},
   "outputs": [
    {
     "data": {
      "image/png": "[encoded data removed]",
      "text/plain": [
       "<Figure size 432x288 with 1 Axes>"
      ]
     },
     "metadata": {
      "needs_background": "light"
     },
     "output_type": "display_data"
    }
   ],
   "source": [
    "R_0=10**13 #cm\n",
    "\n",
    "plt.plot(omega,omega*P*(4*np.pi)**2/3*R_0**3, label='$P(\\omega)$')\n",
    "plt.legend()\n",
    "plt.xscale('log')\n",
    "plt.yscale('log')\n",
    "plt.title(r'Emissivity',fontsize=20)\n",
    "plt.xlabel(r'$\\omega$[rad/s]',fontsize=20)\n",
    "plt.ylabel(r'$\\omega \\epsilon$[erg s$^{-1}$ cm$^{-3}$ sr$^{-1}$]',fontsize=20)\n",
    "plt.show()"
   ]
  },
  {
   "cell_type": "code",
   "execution_count": null,
   "metadata": {},
   "outputs": [],
   "source": []
  }
 ],
 "metadata": {
  "kernelspec": {
   "display_name": "Python 3",
   "language": "python",
   "name": "python3"
  },
  "language_info": {
   "codemirror_mode": {
    "name": "ipython",
    "version": 3
   },
   "file_extension": ".py",
   "mimetype": "text/x-python",
   "name": "python",
   "nbconvert_exporter": "python",
   "pygments_lexer": "ipython3",
   "version": "3.7.3"
  }
 },
 "nbformat": 4,
 "nbformat_minor": 2
}
