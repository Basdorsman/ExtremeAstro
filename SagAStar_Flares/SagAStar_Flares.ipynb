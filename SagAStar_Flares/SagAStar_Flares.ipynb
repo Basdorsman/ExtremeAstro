{
 "cells": [
  {
   "cell_type": "markdown",
   "metadata": {},
   "source": [
    "# 1. Sgr A* Flares Spectrum\n",
    "__Some housekeeping__\n",
    "* Run this notebook in Python 3.\n",
    "\n",
    "The Sgr A* spectrum is given in figure 1. (Yuan et al. 2003)\n",
    "\n",
    "![title](img/SpectrumYuan2003.PNG)\n",
    "\n",
    "\n",
    "__Goals of this notebook__\n",
    "\n",
    "* Create a seed distribution synchroton photons from a mildly relativistic electrons.\n",
    "* Perform (at least one) IC scatterings.\n",
    "* Put all of the machinery into the correct geometry, with the goal of reproducing the spectrum of flares in Sgr A* jets.\n",
    "\n",
    "\n",
    "First we do some necessary python imports."
   ]
  },
  {
   "cell_type": "code",
   "execution_count": 1,
   "metadata": {},
   "outputs": [],
   "source": [
    "import numpy as np\n",
    "import matplotlib.pyplot as plt\n",
    "import scipy\n",
    "import scipy.integrate as integrate\n",
    "from scipy.integrate import quad\n",
    "from scipy.special import kv, gamma"
   ]
  },
  {
   "cell_type": "markdown",
   "metadata": {},
   "source": [
    "Some constants"
   ]
  },
  {
   "cell_type": "code",
   "execution_count": 2,
   "metadata": {},
   "outputs": [],
   "source": [
    "m_e=9.1*10**-28   # Electron mass [g]\n",
    "e=5*10**-10       # Electron charge [esu]\n",
    "k=1.4*10**-16     # Boltzmann constnat [erg/K]\n",
    "c_light=3*10**10  # Speed of light [cm/s]\n",
    "B=3               # Magnetic field [Gauss]\n",
    "theta=np.pi/2     # Synchroton angle between velocity and field [rad]\n",
    "hbar=10**-27      # Reduced planck constant [erg s]\n",
    "sigma_t=6.65e-25  # Thomson cross section\n",
    "theta_th=5       # Electron thermal energy in fractions of electron mass.\n",
    "\n",
    "log_omega_min=6\n",
    "log_omega_max=13 #*\n",
    "\n",
    "gamma_min=1\n",
    "gamma_max=70 #* If these particular numbers are too big, the integration will start to get slowly convergent, with integration warnings..\n"
   ]
  },
  {
   "cell_type": "markdown",
   "metadata": {},
   "source": [
    "# Maxwell-Jüttner distribution of electrons\n",
    "The velocity distribution of electrons that will produce the synchroton radiation is that of mildly relativistic electrons: $kT \\sim m_e c^2$.\n",
    "$$\n",
    "        N(\\gamma)=N_0\\frac{\\gamma^2\\beta}{\\theta K_2(1/\\theta)}\\text{exp}(-\\frac{\\gamma}{\\theta}),\n",
    "$$\n",
    "    where $\\theta = \\frac{kT}{m_e c^2}$, and $K_2$ is the modified Bessel function of the second kind. \n",
    "    "
   ]
  },
  {
   "cell_type": "code",
   "execution_count": 3,
   "metadata": {
    "scrolled": true
   },
   "outputs": [
    {
     "data": {
      "image/png": "[encoded data removed]",
      "text/plain": [
       "<Figure size 432x288 with 1 Axes>"
      ]
     },
     "metadata": {
      "needs_background": "light"
     },
     "output_type": "display_data"
    }
   ],
   "source": [
    "def MJ_of_gamma(gamma,theta_th):\n",
    "    beta=np.sqrt(1-1/gamma**2)\n",
    "    f=gamma**2*beta*np.exp(-gamma/theta_th)/(theta*kv(2,1./theta_th))\n",
    "    return(f)\n",
    "    \n",
    "number=1000    \n",
    "gamma = np.linspace(gamma_min,gamma_max,number)\n",
    "MJ = np.zeros(number)\n",
    "\n",
    "for i in range(len(gamma)):\n",
    "    MJ[i] = MJ_of_gamma(gamma[i],theta_th)\n",
    "\n",
    "\n",
    "plt.plot(gamma,MJ,label=r'$\\theta=${:4.1f}'.format(theta_th))\n",
    "plt.xscale('log')\n",
    "plt.yscale('log')\n",
    "plt.xlabel('$\\gamma$',fontsize=20)\n",
    "plt.ylabel('N($\\gamma$) [#/volume/$\\gamma$]', fontsize=20)\n",
    "plt.grid(1)\n",
    "plt.legend()\n",
    "plt.show()"
   ]
  },
  {
   "cell_type": "markdown",
   "metadata": {},
   "source": [
    "Later on we will need function that will draw a random electron from the Maxwell-Jüttner distribution, we will do this now. The exact same process is used in the Monte Carlo tutorial, though I had to tweak it a bit."
   ]
  },
  {
   "cell_type": "code",
   "execution_count": 4,
   "metadata": {},
   "outputs": [
    {
     "name": "stdout",
     "output_type": "stream",
     "text": [
      "The normalization factor is 3.183e+00\n"
     ]
    }
   ],
   "source": [
    "def N_of_gamma(gamma):\n",
    "        value=MJ_of_gamma(gamma,theta_th)\n",
    "        return(value)\n",
    "\n",
    "norm,error=quad(N_of_gamma,gamma_min,gamma_max) # Normalization value, calculate this once, here. \n",
    "                                                # The normalization factor is whatever value I have to devide the Maxwell-Juttner distribution by to get a PDF with a surface value of 1.\n",
    "\n",
    "print('The normalization factor is {0:5.3e}'.format(norm))\n",
    "def N_electron_PDF(gamma):\n",
    "    return(N_of_gamma(gamma)/norm)\n",
    "\n"
   ]
  },
  {
   "cell_type": "markdown",
   "metadata": {},
   "source": [
    "Test if it gives a correct PDF."
   ]
  },
  {
   "cell_type": "code",
   "execution_count": 5,
   "metadata": {},
   "outputs": [
    {
     "name": "stdout",
     "output_type": "stream",
     "text": [
      "surface under graph 1.000e+00\n"
     ]
    },
    {
     "data": {
      "image/png": "[encoded data removed]",
      "text/plain": [
       "<Figure size 432x288 with 1 Axes>"
      ]
     },
     "metadata": {
      "needs_background": "light"
     },
     "output_type": "display_data"
    }
   ],
   "source": [
    "number=1000    \n",
    "gamma = np.linspace(gamma_min,gamma_max,number)\n",
    "P=np.zeros(number)\n",
    "\n",
    "surface,error=quad(N_electron_PDF,gamma_min,gamma_max)\n",
    "print('surface under graph {0:5.3e}'.format(surface))\n",
    "\n",
    "\n",
    "for i in range(number):\n",
    "    P[i]=N_electron_PDF(gamma[i])\n",
    "   \n",
    "plt.plot(gamma,P)\n",
    "plt.title('Electron PDF')\n",
    "plt.xscale('log')\n",
    "plt.yscale('log')\n",
    "plt.xlabel(r'$\\gamma$',fontsize=20)\n",
    "plt.ylabel(r'PDF',fontsize=20)\n",
    "plt.show()"
   ]
  },
  {
   "cell_type": "markdown",
   "metadata": {},
   "source": [
    "Now we take this PDF and turn it into a CDF."
   ]
  },
  {
   "cell_type": "code",
   "execution_count": 6,
   "metadata": {},
   "outputs": [],
   "source": [
    "number = 100\n",
    "def N_electron_CDF(gamma):\n",
    "    integ=np.zeros(number)\n",
    "    integ[0]=N_electron_PDF(gamma[0])\n",
    "    for i in range(number-1):\n",
    "        integ[i+1],error=quad(N_electron_PDF,gamma[i],gamma[i+1]) #integrate the PDF between every omega interval\n",
    "    \n",
    "    CDF=np.zeros(number)\n",
    "    CDF[0]=integ[0]\n",
    "    for i in range(number-1):\n",
    "        CDF[i+1]=sum(integ[0:i+2]) # add up the intervals to create a CDF\n",
    "    return(CDF)"
   ]
  },
  {
   "cell_type": "markdown",
   "metadata": {},
   "source": [
    "Test if it works:"
   ]
  },
  {
   "cell_type": "code",
   "execution_count": 7,
   "metadata": {},
   "outputs": [
    {
     "data": {
      "image/png": "[encoded data removed]",
      "text/plain": [
       "<Figure size 432x288 with 1 Axes>"
      ]
     },
     "metadata": {
      "needs_background": "light"
     },
     "output_type": "display_data"
    }
   ],
   "source": [
    "number=1000    \n",
    "gamma = np.linspace(gamma_min,gamma_max,number)\n",
    "CDF_electrons = N_electron_CDF(gamma) \n",
    "\n",
    "\n",
    "plt.plot(gamma,CDF_electrons)\n",
    "plt.xscale('log')\n",
    "plt.xlabel(r'$\\gamma$',fontsize=20)\n",
    "plt.ylabel(r'CDF',fontsize=20)\n",
    "plt.show()"
   ]
  },
  {
   "cell_type": "markdown",
   "metadata": {},
   "source": [
    "Then numerically invert:"
   ]
  },
  {
   "cell_type": "code",
   "execution_count": 8,
   "metadata": {},
   "outputs": [],
   "source": [
    "def N_gamma_of_P(gamma,CDF,n_electrons):\n",
    "    gamma_electron=np.interp(np.random.rand(n_electrons),CDF,gamma)\n",
    "    return(gamma_electron)"
   ]
  },
  {
   "cell_type": "markdown",
   "metadata": {},
   "source": [
    "And make a plot to see if it worked:"
   ]
  },
  {
   "cell_type": "code",
   "execution_count": 9,
   "metadata": {},
   "outputs": [
    {
     "data": {
      "image/png": "[encoded data removed]",
      "text/plain": [
       "<Figure size 432x288 with 1 Axes>"
      ]
     },
     "metadata": {
      "needs_background": "light"
     },
     "output_type": "display_data"
    }
   ],
   "source": [
    "n_electrons=100000\n",
    "number=1000    \n",
    "gamma = np.linspace(gamma_min,gamma_max,number)\n",
    "gamma_electron=N_gamma_of_P(gamma,CDF_electrons,n_electrons)\n",
    "plot_bins=np.linspace(gamma_min,gamma_max,number)\n",
    "electron_dist,edges=np.histogram(gamma_electron,bins=plot_bins,density=True)\n",
    "plot_gammas=np.sqrt(plot_bins[1:]*plot_bins[:-1])\n",
    "plt.plot(gamma,P,label='PDF')\n",
    "plt.loglog(plot_gammas,electron_dist,'.',label='distributed electrons')\n",
    "plt.xlabel('$\\gamma$',fontsize=20)\n",
    "plt.ylabel('PDF',fontsize=20)\n",
    "plt.legend()\n",
    "plt.show()\n",
    "\n"
   ]
  },
  {
   "cell_type": "markdown",
   "metadata": {},
   "source": [
    "# Equipartition to find electron number density\n",
    "Requiring equipartition between the magnetic field energy density and the electron energy density, we set\n",
    "$$\n",
    "U_B=U_e.\n",
    "$$\n",
    "This can be expanded to\n",
    "$$\n",
    "    \\frac{B^2}{8\\pi}=m_e c^2 \\int \\gamma N(\\gamma) d\\gamma = N_0 m_e c^2 \\int \\gamma P(\\gamma) d\\gamma = N_0 \\big<\\gamma\\big> m_e c^2,\n",
    "$$\n",
    "where $P(\\gamma)$ is the probability distribution function (PDF) of the electrons and $N_0 = \\int N(\\gamma)d\\gamma. $\n",
    "This gives\n",
    "$$\n",
    "    N_0 = \\frac{B^2}{8\\pi \\big<\\gamma\\big>m_e c^2}\n",
    "$$"
   ]
  },
  {
   "cell_type": "code",
   "execution_count": 10,
   "metadata": {},
   "outputs": [
    {
     "name": "stdout",
     "output_type": "stream",
     "text": [
      "The expectation value of gamma is 1.509e+01\n",
      "N_0 is 2.897e+04, and carries units cm-3\n"
     ]
    }
   ],
   "source": [
    "def expectance_gamma(gamma_min,gamma_max):\n",
    "    def integrand_1(gamma):\n",
    "        value=gamma*N_electron_PDF(gamma)\n",
    "        return(value)\n",
    "    value,error=quad(integrand_1,gamma_min,gamma_max)\n",
    "    return(value)\n",
    "\n",
    "exp = expectance_gamma(gamma_min,gamma_max)\n",
    "print('The expectation value of gamma is {0:5.3e}'.format(exp))\n",
    "\n",
    "N_0=B**2/(8*np.pi*exp*m_e*c_light**2)\n",
    "\n",
    "print('N_0 is {0:5.3e}, and carries units cm-3'.format(N_0))"
   ]
  },
  {
   "cell_type": "markdown",
   "metadata": {},
   "source": [
    "# Synchrotron power spectrum\n",
    "The synchrotron power spectrum for a single electron is given by\n",
    "$$\n",
    "    P_{sync}(\\omega)=\\frac{\\sqrt{3} e^3 B \\sin{\\theta}}{2\\pi m_e c^2} F(x),\n",
    "$$\n",
    "where\n",
    "$$\n",
    "   F(x) = x \\int_x^\\infty K_{5/3}(\\xi)d\\xi,\n",
    "$$\n",
    "        and $x=\\omega/\\omega_c$. Also, $\\omega_c=\\frac{3}{2}\\gamma^2\\frac{eB}{m_e c}\\sin{\\theta}$. This implies that $\\omega_c=\\omega_c(\\gamma)$ and thus that $F(x)=F(\\gamma,\\omega)$ and $P_{sync}(\\omega)=P_{sync}(\\gamma,\\omega,\\theta,B)$.\n",
    "        \n",
    "Next up, we make some functions that we will need to obtain the synchroton power spectrum as a function of magnetic field, lorentz factor and pitch angle."
   ]
  },
  {
   "cell_type": "code",
   "execution_count": 11,
   "metadata": {},
   "outputs": [],
   "source": [
    "def omega_c(gamma,B,theta):\n",
    "    value=3/2*gamma**2*e*B/(m_e*c_light)*np.sin(theta)\n",
    "    return(value)\n",
    "\n",
    "def K_fivethird(x):\n",
    "    value=kv(5/3,x)\n",
    "    return(value)\n",
    "\n",
    "def F_sync(omega,omega_c):\n",
    "    x=omega/omega_c\n",
    "    output_integral,error=quad(K_fivethird,x,np.inf)\n",
    "    value=x*output_integral\n",
    "    return(value)\n",
    "\n",
    "def P_sync(gamma,omega,B,theta):\n",
    "    value = np.sqrt(3)*e**3*B*np.sin(theta)/(2*np.pi*m_e*c_light**2)*F_sync(omega,omega_c(gamma,B,theta))\n",
    "    return(value)\n",
    "\n",
    "\n"
   ]
  },
  {
   "cell_type": "markdown",
   "metadata": {},
   "source": [
    "And we test the function out."
   ]
  },
  {
   "cell_type": "code",
   "execution_count": 12,
   "metadata": {},
   "outputs": [
    {
     "name": "stdout",
     "output_type": "stream",
     "text": [
      "according to peak frequency formula, the peak should be at 2.473e+09 or 10^9.39\n"
     ]
    },
    {
     "data": {
      "image/png": "[encoded data removed]",
      "text/plain": [
       "<Figure size 432x288 with 1 Axes>"
      ]
     },
     "metadata": {
      "needs_background": "light"
     },
     "output_type": "display_data"
    }
   ],
   "source": [
    "number = 100\n",
    "\n",
    "\n",
    "omega = np.logspace(log_omega_min,log_omega_max,number)\n",
    "P = np.zeros(number)\n",
    "\n",
    "gamma = 10\n",
    "\n",
    "\n",
    "for i in range(number):\n",
    "    P[i] = P_sync(gamma,omega[i],B,theta)\n",
    "\n",
    "omega_peak=0.3*omega_c(gamma,B,theta)\n",
    "print('according to peak frequency formula, the peak should be at {0:5.3e} or 10^{1:3.2f}'.format(omega_peak,np.log10(omega_peak)))\n",
    "\n",
    "plt.plot(omega,P, label='$P(\\omega)$')\n",
    "plt.plot(omega_peak,P_sync(gamma,omega_peak,B,theta),'x', label='peak')\n",
    "plt.legend()\n",
    "plt.xscale('log')\n",
    "plt.yscale('log')\n",
    "plt.title(r'Power per frequency',fontsize=20)\n",
    "plt.xlabel(r'$\\omega$[rad/s]',fontsize=20)\n",
    "plt.ylabel(r'P[erg/s/(rad/s)]',fontsize=20)\n",
    "plt.grid(1)\n",
    "plt.show()\n",
    "\n",
    "\n",
    "plt.show()"
   ]
  },
  {
   "cell_type": "markdown",
   "metadata": {},
   "source": [
    "Now we want to combine the velocity distribution and power spectrum into an emmisivity spectrum, by \n",
    "\n",
    "$$\n",
    "    \\epsilon_s(\\omega)= \\int P_{sync}(\\gamma, \\omega) N(\\gamma) d\\gamma,\n",
    "$$\n",
    "where \n",
    "\n",
    "$$\n",
    "N(\\gamma) = N_0 P(\\gamma),\n",
    "$$\n",
    "and $P(\\gamma)$ is the electron PDF."
   ]
  },
  {
   "cell_type": "code",
   "execution_count": 13,
   "metadata": {},
   "outputs": [],
   "source": [
    "def P_tot(gamma_min,gamma_max,omega,B,theta):\n",
    "    def P_of_gamma(gamma):                            #integration only takes single variable functions\n",
    "        value=P_sync(gamma,omega,B,theta)\n",
    "        return(value)\n",
    "    def integrand_2(gamma):\n",
    "        value=N_0*N_electron_PDF(gamma)*P_of_gamma(gamma)\n",
    "        return(value)\n",
    "    output,error=quad(integrand_2,gamma_min,gamma_max)\n",
    "    value=output\n",
    "    return(output)\n",
    "            "
   ]
  },
  {
   "cell_type": "markdown",
   "metadata": {},
   "source": [
    "Try it out"
   ]
  },
  {
   "cell_type": "code",
   "execution_count": 14,
   "metadata": {},
   "outputs": [
    {
     "name": "stderr",
     "output_type": "stream",
     "text": [
      "C:\\Users\\super\\Anaconda3\\lib\\site-packages\\ipykernel_launcher.py:11: IntegrationWarning: The integral is probably divergent, or slowly convergent.\n",
      "  # This is added back by InteractiveShellApp.init_path()\n"
     ]
    },
    {
     "data": {
      "image/png": "[encoded data removed]",
      "text/plain": [
       "<Figure size 432x288 with 1 Axes>"
      ]
     },
     "metadata": {
      "needs_background": "light"
     },
     "output_type": "display_data"
    }
   ],
   "source": [
    "number=100\n",
    "omega=np.logspace(log_omega_min,log_omega_max,number)\n",
    "\n",
    "\n",
    "P=np.zeros(number)\n",
    "\n",
    "for i in range(number):\n",
    "    P[i]=P_tot(gamma_min,gamma_max,omega[i],B,theta)\n",
    "\n",
    "plt.plot(omega,P, label='$P(\\omega)$')\n",
    "plt.legend()\n",
    "plt.xscale('log')\n",
    "plt.yscale('log')\n",
    "plt.title(r'Emissivity',fontsize=20)\n",
    "plt.xlabel(r'$\\omega$[rad/s]',fontsize=20)\n",
    "plt.ylabel(r'$\\epsilon$[erg s$^{-1}$ cm$^{-3}$ (rad/s)$^{-1}$]',fontsize=20)\n",
    "plt.show()\n",
    "\n"
   ]
  },
  {
   "cell_type": "markdown",
   "metadata": {},
   "source": [
    "# The seed photon distribution\n",
    "We now want to be able to use this result to create some seed photons, according to the above distribution. To do this, we have to create a function that will return a random photon according to the above distribution. I will first make a PDF, and use it to make a cumulative PDF. "
   ]
  },
  {
   "cell_type": "code",
   "execution_count": 15,
   "metadata": {},
   "outputs": [
    {
     "name": "stderr",
     "output_type": "stream",
     "text": [
      "C:\\Users\\super\\Anaconda3\\lib\\site-packages\\ipykernel_launcher.py:11: IntegrationWarning: The integral is probably divergent, or slowly convergent.\n",
      "  # This is added back by InteractiveShellApp.init_path()\n"
     ]
    },
    {
     "name": "stdout",
     "output_type": "stream",
     "text": [
      "normalization factor is 1.806e+10\n"
     ]
    },
    {
     "name": "stderr",
     "output_type": "stream",
     "text": [
      "C:\\Users\\super\\Anaconda3\\lib\\site-packages\\ipykernel_launcher.py:5: IntegrationWarning: The maximum number of subdivisions (50) has been achieved.\n",
      "  If increasing the limit yields no improvement it is advised to analyze \n",
      "  the integrand in order to determine the difficulties.  If the position of a \n",
      "  local difficulty can be determined (singularity, discontinuity) one will \n",
      "  probably gain from splitting up the interval and calling the integrator \n",
      "  on the subranges.  Perhaps a special-purpose integrator should be used.\n",
      "  \"\"\"\n"
     ]
    }
   ],
   "source": [
    "def N_of_omega(omega):\n",
    "        value=P_tot(gamma_min,gamma_max,omega,B,theta)/(hbar*omega) #Power devided by energy to get number of photons\n",
    "        return(value)\n",
    "\n",
    "norm2,error=quad(N_of_omega,10**log_omega_min,10**log_omega_max) #normalization value, calculate this once, here. \n",
    "print('normalization factor is {0:5.3e}'.format(norm2))\n",
    "\n",
    "def N_photon_PDF(omega):\n",
    "    return(N_of_omega(omega)/norm2)"
   ]
  },
  {
   "cell_type": "markdown",
   "metadata": {},
   "source": [
    "Now test if it works."
   ]
  },
  {
   "cell_type": "code",
   "execution_count": 16,
   "metadata": {},
   "outputs": [
    {
     "name": "stderr",
     "output_type": "stream",
     "text": [
      "C:\\Users\\super\\Anaconda3\\lib\\site-packages\\ipykernel_launcher.py:11: IntegrationWarning: The integral is probably divergent, or slowly convergent.\n",
      "  # This is added back by InteractiveShellApp.init_path()\n",
      "C:\\Users\\super\\Anaconda3\\lib\\site-packages\\ipykernel_launcher.py:5: IntegrationWarning: The maximum number of subdivisions (50) has been achieved.\n",
      "  If increasing the limit yields no improvement it is advised to analyze \n",
      "  the integrand in order to determine the difficulties.  If the position of a \n",
      "  local difficulty can be determined (singularity, discontinuity) one will \n",
      "  probably gain from splitting up the interval and calling the integrator \n",
      "  on the subranges.  Perhaps a special-purpose integrator should be used.\n",
      "  \"\"\"\n"
     ]
    },
    {
     "name": "stdout",
     "output_type": "stream",
     "text": [
      "surface under graph 1.000e+00\n"
     ]
    },
    {
     "data": {
      "image/png": "[encoded data removed]",
      "text/plain": [
       "<Figure size 432x288 with 1 Axes>"
      ]
     },
     "metadata": {
      "needs_background": "light"
     },
     "output_type": "display_data"
    }
   ],
   "source": [
    "number=100\n",
    "omega=np.logspace(log_omega_min,log_omega_max,number)\n",
    "P=np.zeros(number)\n",
    "\n",
    "surface,error=quad(N_photon_PDF,10**log_omega_min,10**log_omega_max)\n",
    "print('surface under graph {0:5.3e}'.format(surface))\n",
    "\n",
    "\n",
    "for i in range(number):\n",
    "    P[i]=N_photon_PDF(omega[i])\n",
    "   \n",
    "plt.plot(omega,P)\n",
    "plt.title('Seed photon PDF')\n",
    "plt.xscale('log')\n",
    "plt.yscale('log')\n",
    "plt.xlabel(r'$\\omega$[rad/s]',fontsize=20)\n",
    "plt.ylabel(r'PDF',fontsize=20)\n",
    "plt.show()\n"
   ]
  },
  {
   "cell_type": "markdown",
   "metadata": {},
   "source": [
    "Then we take this PDF and turn it into a CDF."
   ]
  },
  {
   "cell_type": "code",
   "execution_count": 17,
   "metadata": {},
   "outputs": [],
   "source": [
    "number=100\n",
    "def N_photon_CDF(omega):\n",
    "    integ=np.zeros(number)\n",
    "    integ[0]=N_photon_PDF(omega[0])\n",
    "    for i in range(number-1):\n",
    "        integ[i+1],error=quad(N_photon_PDF,omega[i],omega[i+1]) #integrate the PDF between every omega interval\n",
    "    \n",
    "    CDF=np.zeros(number)\n",
    "    CDF[0]=integ[0]\n",
    "    for i in range(number-1):\n",
    "        CDF[i+1]=sum(integ[0:i+2]) # add up the intervals to create a CDF\n",
    "    return(CDF)"
   ]
  },
  {
   "cell_type": "markdown",
   "metadata": {},
   "source": [
    "Make a quick plot: (ok. it's not that quick.)"
   ]
  },
  {
   "cell_type": "code",
   "execution_count": 18,
   "metadata": {},
   "outputs": [
    {
     "name": "stderr",
     "output_type": "stream",
     "text": [
      "C:\\Users\\super\\Anaconda3\\lib\\site-packages\\ipykernel_launcher.py:11: IntegrationWarning: The integral is probably divergent, or slowly convergent.\n",
      "  # This is added back by InteractiveShellApp.init_path()\n"
     ]
    },
    {
     "data": {
      "image/png": "[encoded data removed]",
      "text/plain": [
       "<Figure size 432x288 with 1 Axes>"
      ]
     },
     "metadata": {
      "needs_background": "light"
     },
     "output_type": "display_data"
    }
   ],
   "source": [
    "number = 100\n",
    "omega=np.logspace(log_omega_min,log_omega_max,number)\n",
    "CDF_photons = N_photon_CDF(omega) \n",
    "\n",
    "\n",
    "plt.plot(omega,CDF_photons)\n",
    "plt.xscale('log')\n",
    "plt.xlabel(r'$\\omega$[rad/s]',fontsize=20)\n",
    "plt.ylabel(r'CDF',fontsize=20)\n",
    "plt.show()"
   ]
  },
  {
   "cell_type": "markdown",
   "metadata": {},
   "source": [
    "Next up we want to invert the CDF and create a function  𝜔(𝑃) , where  𝑃  is a random variable. Many photons drawn using  𝜔(𝑃)  are then distributed with an  𝜔  according to the PDF."
   ]
  },
  {
   "cell_type": "code",
   "execution_count": 19,
   "metadata": {},
   "outputs": [],
   "source": [
    "def N_omega_of_P(omega, CDF,n_photons):\n",
    "    e_phot=np.interp(np.random.rand(n_photons),CDF,omega)\n",
    "    return(e_phot)"
   ]
  },
  {
   "cell_type": "code",
   "execution_count": 20,
   "metadata": {},
   "outputs": [
    {
     "data": {
      "image/png": "[encoded data removed]",
      "text/plain": [
       "<Figure size 432x288 with 1 Axes>"
      ]
     },
     "metadata": {
      "needs_background": "light"
     },
     "output_type": "display_data"
    }
   ],
   "source": [
    "n_photons=100000\n",
    "photons=np.zeros(n_photons)\n",
    "number=100\n",
    "omega=np.logspace(log_omega_min,log_omega_max,number)\n",
    "omega_phot=N_omega_of_P(omega,CDF_photons,n_photons)\n",
    "plot_bins=np.logspace(log_omega_min,log_omega_max,number)\n",
    "photon_dist,edges=np.histogram(omega_phot,bins=plot_bins,density=True)\n",
    "plot_omegas=np.sqrt(plot_bins[1:]*plot_bins[:-1])\n",
    "plt.plot(omega,P,label='PDF')\n",
    "plt.loglog(plot_omegas,photon_dist,'.',label='distributed photons')\n",
    "plt.xlabel('$\\omega$ [rad/s]',fontsize=20)\n",
    "plt.ylabel('PDF',fontsize=20)\n",
    "plt.legend()\n",
    "plt.show()"
   ]
  },
  {
   "cell_type": "markdown",
   "metadata": {},
   "source": [
    "# Import some stuff from the Monte Carlo tutorial!\n",
    "Define mc_parms: "
   ]
  },
  {
   "cell_type": "code",
   "execution_count": 21,
   "metadata": {},
   "outputs": [],
   "source": [
    "def f_of_v_mono():                    # we will define this later\n",
    "    return(0)\n",
    "def f_of_hnu_mono():                  # we will define this later\n",
    "    return(0)\n",
    "\n",
    "mc_parms={'n_photons':100000,         # number of trials--start somewhat small and go up\n",
    "          'kt_seeds':1.6e-9,          # temperature/energy of the seed photons (in energy units)\n",
    "          'H':3e7,                    # height of the corona (H ~ R, and R ~ 100 R_g ~ 3e7 cm)\n",
    "          'velocity':3e9,             # electron velocity (only used by mono-energetic distribution)\n",
    "          'kt_electron':3.2e-8,       # electron temperature (in energy units, used by Maxwellian)\n",
    "          'tau':0.1,                  # optical depth of the corona\n",
    "          'v_dist':f_of_v_mono,      # name of velocity distribution function (start with delta function)\n",
    "          'hnu_dist':f_of_hnu_mono,  # name of photon distribution function (start with delta function)\n",
    "         }"
   ]
  },
  {
   "cell_type": "markdown",
   "metadata": {},
   "source": [
    "Define compton_y function"
   ]
  },
  {
   "cell_type": "code",
   "execution_count": 22,
   "metadata": {},
   "outputs": [
    {
     "name": "stdout",
     "output_type": "stream",
     "text": [
      "Your code produces a y-parameter of  1.00. The test value of 1.00\n"
     ]
    }
   ],
   "source": [
    "def compton_y(pre,post):\n",
    "    return(np.mean((post-pre)/pre))\n",
    "\n",
    "def test_compton_y():\n",
    "    post=np.ones(100)*2\n",
    "    pre=np.ones(100)\n",
    "    print('Your code produces a y-parameter of {:5.2f}. The test value of 1.00'.format(compton_y(pre,post)))\n",
    "    \n",
    "test_compton_y()"
   ]
  },
  {
   "cell_type": "markdown",
   "metadata": {},
   "source": [
    "Define random_direction function"
   ]
  },
  {
   "cell_type": "code",
   "execution_count": 23,
   "metadata": {},
   "outputs": [],
   "source": [
    "def random_direction(number=None):\n",
    "    \"\"\"Returns randomly oriented unit vectors.\n",
    "\n",
    "    Args: \n",
    "        None\n",
    "        \n",
    "    Parameters:\n",
    "        number: number of random vectors to return\n",
    "\n",
    "    Returns::\n",
    "        (number,3)-element numpy array: Randomly oriented unit vectors\n",
    "    \"\"\"\n",
    "\n",
    "    #\n",
    "    # This is how you draw a random number for a uniform\n",
    "    # distribution:\n",
    "    #\n",
    "\n",
    "    if number is None:\n",
    "        number=1\n",
    "\n",
    "    phi=2.*np.pi*np.random.rand(number)\n",
    "    cos_phi=np.cos(phi)\n",
    "    sin_phi=np.sin(phi)\n",
    "    cos_theta=2.*np.random.rand(number)-1\n",
    "    sin_theta=np.sqrt(1 - cos_theta**2)\n",
    "    return((np.array([sin_theta*cos_phi,sin_theta*sin_phi,cos_theta])).transpose())"
   ]
  },
  {
   "cell_type": "markdown",
   "metadata": {},
   "source": [
    "Define f_of_hnu_mono"
   ]
  },
  {
   "cell_type": "code",
   "execution_count": 24,
   "metadata": {},
   "outputs": [],
   "source": [
    "def f_of_hnu_mono(mc_parms,number=None):\n",
    "    \"\"\"Returns randomly drawn velocity from distribution function\n",
    "    \n",
    "    Args:\n",
    "        mc_parms (dictionary): Monte-Carlo parameters\n",
    "    \n",
    "    Parameters:\n",
    "        number (integer): Number of photon energies to generate\n",
    "\n",
    "    Returns:\n",
    "        numpy array: seed photon energies drawn from photon distribution\n",
    "    \"\"\"\n",
    "    if number is None:\n",
    "        number=1\n",
    "    return(np.ones(number)*mc_parms['kt_seeds'])"
   ]
  },
  {
   "cell_type": "markdown",
   "metadata": {},
   "source": [
    "Define photon_origin"
   ]
  },
  {
   "cell_type": "code",
   "execution_count": 25,
   "metadata": {},
   "outputs": [],
   "source": [
    "def photon_origin(number=None):\n",
    "    \"\"\"Returns emission location of a photon\n",
    "    \"\"\"\n",
    "    if number is None:\n",
    "        number=1\n",
    "    return(np.zeros([number,3]))"
   ]
  },
  {
   "cell_type": "markdown",
   "metadata": {},
   "source": [
    "Define draw_seed_photons"
   ]
  },
  {
   "cell_type": "code",
   "execution_count": 26,
   "metadata": {},
   "outputs": [],
   "source": [
    "def draw_seed_photons(mc_parms,number=None):\n",
    "    \"\"\"Returns a single seed photon\n",
    "    \n",
    "    Args:\n",
    "        mc_parms (dictionary): MC parameters\n",
    "    \n",
    "    Parameters:\n",
    "        number (integer): number of photons to return\n",
    "        \n",
    "    Returns:\n",
    "        (number x 4)numpy array: Photon momentum 4-vectors\n",
    "        (number x 3)numpy array: Initial photon positions\n",
    "    \"\"\"\n",
    "\n",
    "    if number is None:\n",
    "        number=1\n",
    "    x_seed=photon_origin(number=number)\n",
    "    n_seed=random_direction(number=number)\n",
    "    hnu=mc_parms['hnu_dist'](mc_parms,number=number)\n",
    "    p_seed=(np.array([hnu,hnu*n_seed[:,0],hnu*n_seed[:,1],hnu*np.abs(n_seed[:,2])])).transpose()/c_light\n",
    "    return(p_seed,x_seed)"
   ]
  },
  {
   "cell_type": "markdown",
   "metadata": {},
   "source": [
    "Define tau_of_scatter"
   ]
  },
  {
   "cell_type": "code",
   "execution_count": 27,
   "metadata": {},
   "outputs": [],
   "source": [
    "def tau_of_scatter():\n",
    "    \"\"\"Calculates optical depth a photon traveled to before interacting, given probability\n",
    "    \n",
    "    Args:\n",
    "        None\n",
    "        \n",
    "    Returns:\n",
    "        real: Optical depth as function of P\n",
    "\n",
    "    \"\"\"\n",
    "    \n",
    "    # First, draw your random probability P\n",
    "    tau=-np.log(np.random.rand())\n",
    "    return(tau)"
   ]
  },
  {
   "cell_type": "markdown",
   "metadata": {},
   "source": [
    "Define distance_of_scatter"
   ]
  },
  {
   "cell_type": "code",
   "execution_count": 28,
   "metadata": {},
   "outputs": [],
   "source": [
    "def distance_of_scatter(mc_parms):\n",
    "    \"\"\"Calculates the distance that corresponds to an optical depth tau   \n",
    "\n",
    "    Args:\n",
    "        tau (real): optical depth photon travels before scattering occurs\n",
    "        mc_parsm (dictionary): MC parameters\n",
    "\n",
    "    Returns:\n",
    "        real: distance\n",
    "\n",
    "    \"\"\"\n",
    "\n",
    "    tau=tau_of_scatter()\n",
    "    electron_density=mc_parms['tau']/mc_parms['H']/sigma_t\n",
    "    distance=tau/sigma_t/electron_density\n",
    "    \n",
    "    return(distance)"
   ]
  },
  {
   "cell_type": "markdown",
   "metadata": {},
   "source": [
    "Define scatter_location:"
   ]
  },
  {
   "cell_type": "code",
   "execution_count": 29,
   "metadata": {},
   "outputs": [],
   "source": [
    "def scatter_location(x_old,p_photon,mc_parms):\n",
    "    \"\"\"This function goes through the steps of a single scattering\n",
    "\n",
    "    Args:\n",
    "        x_old.   (three-element numpy array): holds the position\n",
    "        p_photon (four-element numpy array): the in-coming photon four-momentum\n",
    "        mc_parms (dictionary): the simulation parameters\n",
    "    \n",
    "    Returns:\n",
    "        three-element numpy array: scattering location\n",
    "    \"\"\"\n",
    "    \n",
    "    # ...path-length:\n",
    "    distance = distance_of_scatter(mc_parms)\n",
    "    \n",
    "    # ...in direction:\n",
    "    photon_direction=p_photon[1:]/p_photon[0]\n",
    "    \n",
    "    # Update photon position with the new location\n",
    "    x_new = x_old + distance*photon_direction\n",
    "    \n",
    "    return(x_new)"
   ]
  },
  {
   "cell_type": "markdown",
   "metadata": {},
   "source": [
    "Define f_of_v_mono"
   ]
  },
  {
   "cell_type": "code",
   "execution_count": 30,
   "metadata": {},
   "outputs": [],
   "source": [
    "def f_of_v_mono(mc_parms):\n",
    "    \"\"\"Returns a single randomly drawn velocity from distribution function\n",
    "    \n",
    "    Args:\n",
    "        mc_parms (dictionary): Monte-Carlo parameters\n",
    "\n",
    "    Returns:\n",
    "        real: electron velocity drawn from distribution\n",
    "    \"\"\"\n",
    "    \n",
    "    return(mc_parms['velocity'])"
   ]
  },
  {
   "cell_type": "markdown",
   "metadata": {},
   "source": [
    "Drawing random electron velocities"
   ]
  },
  {
   "cell_type": "code",
   "execution_count": 31,
   "metadata": {},
   "outputs": [],
   "source": [
    "def draw_electron_velocity(mc_parms,p_photon):\n",
    "    \"\"\"Returns a randomized electron velocity vector for inverse \n",
    "       Compton scattering, taking relativistic foreshortening of the\n",
    "       photon flux in the electron frame into account\n",
    "       \n",
    "       Args:\n",
    "           mc_parms (dictionary): Monte-Carlo parameters\n",
    "           p_photon (4 dimentional np array): Photon 4-momentum\n",
    "           \n",
    "       Returns:\n",
    "           3-element numpy array: electron velocity\n",
    "    \"\"\"\n",
    "    v=mc_parms['v_dist'](mc_parms)\n",
    "    n=draw_electron_direction(v,p_photon)\n",
    "    return(v*n)\n",
    "\n",
    "def draw_electron_direction(v,p_photon):\n",
    "    \"\"\"Draw a randomized electron direction, taking account of the\n",
    "       increase in photons flux from the foward direction, which\n",
    "       effectively increases the cross section for forward scattering.\n",
    "       \n",
    "       Args:\n",
    "            v (real): electron speed\n",
    "            p_photon (4 element numpy array): photon 4-momentum\n",
    "            \n",
    "       Returns:\n",
    "           3-element numpy array: randomized electron velocity vector\n",
    "    \"\"\"\n",
    "    phi=2.*np.pi*np.random.rand()\n",
    "    cosp=np.cos(phi)\n",
    "    sinp=np.sin(phi)\n",
    "    cost=mu_of_p_electron(v/c_light,np.random.rand())\n",
    "    sint=np.sqrt(1 - cost**2)\n",
    "    \n",
    "    n_1=p_photon[1:]/p_photon[0]\n",
    "    if (np.sum(np.abs(n_1[1:2])) != 0):\n",
    "        n_2=np.cross(n_1,np.array([1,0,0]))\n",
    "    else:\n",
    "        n_2=np.cross(n_1,np.array([0,1,0]))\n",
    "    n_2/=np.sqrt(np.sum(n_2**2))\n",
    "    n_3=np.cross(n_1,n_2)\n",
    "    \n",
    "    # express new vector in old base\n",
    "    n_new=(n_2*cosp+n_3*sinp)*sint + n_1*cost\n",
    "    return(n_new/np.sqrt(np.sum(n_new**2)))\n",
    "\n",
    "def mu_of_p_electron(beta,p):\n",
    "    \"\"\"Invert probability for foreshortened effective\n",
    "       Thomson scattering cross section, with\n",
    "    \n",
    "       P = \n",
    "       \n",
    "       Args:\n",
    "           beta (real): v/c for electron\n",
    "           p: probability value between 0 and 1\n",
    "           \n",
    "       Returns:\n",
    "           real: cos(theta) relative to photon direction\n",
    "    \"\"\"\n",
    "    mu=1/beta-np.sqrt(1/beta**2 + 1 - 4*p/beta + 2/beta)\n",
    "    return(mu)"
   ]
  },
  {
   "cell_type": "markdown",
   "metadata": {},
   "source": [
    "Lorentz Transform"
   ]
  },
  {
   "cell_type": "code",
   "execution_count": 32,
   "metadata": {},
   "outputs": [],
   "source": [
    "def lorentz_transform(p,v):\n",
    "    \"\"\"Returns general Lorentz transform\n",
    "\n",
    "    Args:\n",
    "        p (four-element numpy array): input four-vector\n",
    "        v (three-element numpy array): the 3-velocity of the frame we want to transform into\n",
    "\n",
    "    Returns:\n",
    "        four-element numpy array: the transformed four-vector\n",
    "    \"\"\"\n",
    "\n",
    "    beta=np.sqrt(np.sum(v**2))/c_light\n",
    "    beta_vec=v/c_light\n",
    "    gamma=1./np.sqrt(1. - beta**2)\n",
    "    matrix=np.zeros((4,4))\n",
    "    matrix[0,0]=gamma\n",
    "    matrix[1:,0]=-gamma*beta_vec\n",
    "    matrix[0,1:]=-gamma*beta_vec\n",
    "    matrix[1:,1:]=(gamma-1)*np.outer(beta_vec,beta_vec)/beta**2\n",
    "    for i in range(1,4):\n",
    "        matrix[i,i]+=1\n",
    "    return(np.dot(matrix,p))"
   ]
  },
  {
   "cell_type": "markdown",
   "metadata": {},
   "source": [
    "Scattering angle"
   ]
  },
  {
   "cell_type": "code",
   "execution_count": 33,
   "metadata": {},
   "outputs": [],
   "source": [
    "def cos_theta_thomson(p):\n",
    "    \"\"\"Invert P(<\\theta) to calculate cos(theta)\n",
    "        \n",
    "        Args:\n",
    "            p (real): probability between 0 and 1\n",
    "            \n",
    "        Returns:\n",
    "            real: scattering angle drawn from Thomson distribution\n",
    "    \"\"\"\n",
    "    a=-4 + 8*p\n",
    "    b=a**2 + 4\n",
    "    return((np.power(2,1/3)*np.power(np.sqrt(b)-a,2/3)-2)/\n",
    "           (np.power(2,2/3)*np.power(np.sqrt(b)-a,1/3)))\n"
   ]
  },
  {
   "cell_type": "markdown",
   "metadata": {},
   "source": [
    "Thomson scattering machinery"
   ]
  },
  {
   "cell_type": "code",
   "execution_count": 34,
   "metadata": {},
   "outputs": [],
   "source": [
    "def thomson_scatter(p_photon):\n",
    "    \"\"\"This function performs Thomson scattering on a photon\n",
    "    \n",
    "    Args:\n",
    "        p_photon (4-element numpy array): Incoming photon four-vector\n",
    "        \n",
    "    Returns:\n",
    "        4-element numpy array: Scattered photon four-vector\n",
    "    \"\"\"\n",
    "    \n",
    "    n_1=p_photon[1:]/p_photon[0]\n",
    "    if (np.sum(np.abs(n_1[1:2])) != 0):\n",
    "        n_2=np.cross(n_1,np.array([1,0,0]))\n",
    "    else:\n",
    "        n_2=np.cross(n_1,np.array([0,1,0]))\n",
    "    n_2/=np.sqrt(np.sum(n_2**2))\n",
    "    n_3=np.cross(n_1,n_2)\n",
    "\n",
    "    # scattering is uniform in phi\n",
    "    phi=2.*np.pi*np.random.rand()\n",
    "    cosp=np.cos(phi)\n",
    "    sinp=np.sin(phi)\n",
    "    \n",
    "    # draw cos_theta from proper distribution\n",
    "    cost=cos_theta_thomson(np.random.rand())\n",
    "    sint=np.sqrt(1 - cost**2)\n",
    "    \n",
    "    # express new vector in old base\n",
    "    n_new=(n_2*cosp+n_3*sinp)*sint + n_1*cost\n",
    "    n_new/=np.sqrt(np.sum(n_new**2))\n",
    "    \n",
    "    # return scatterd 4-momentum vector\n",
    "    return(np.array(p_photon[0]*np.array([1,n_new[0],n_new[1],n_new[2]])))"
   ]
  },
  {
   "cell_type": "markdown",
   "metadata": {},
   "source": [
    "Inverse thomson scatter"
   ]
  },
  {
   "cell_type": "code",
   "execution_count": 35,
   "metadata": {},
   "outputs": [],
   "source": [
    "def inverse_compton_scatter(p_photon,mc_parms):\n",
    "    \"\"\"This function performs an iteration of inverse Compton scattering off an electron of velocity v_vec.\n",
    "    \n",
    "    Args:\n",
    "        p_photon (four element numpy array): input photon four-momentum\n",
    "        v_vec (three element numpy array): 3-velocity vector of the scattering electron\n",
    "        \n",
    "    Returns:\n",
    "        four-element numpy array: scattered photon four-momentum in observer's frame\n",
    "    \"\"\"\n",
    "    \n",
    "    # throw the dice one more time to draw a random electron velocity\n",
    "    velocity=draw_electron_velocity(mc_parms,p_photon)\n",
    "    # first, transform to electron frame\n",
    "    p_photon_prime=lorentz_transform(p_photon,velocity)\n",
    "\n",
    "    # Thomson scatter\n",
    "    p_out_prime=thomson_scatter(p_photon_prime)\n",
    "    \n",
    "    # transform back to observer frame\n",
    "    return(lorentz_transform(p_out_prime,-velocity))"
   ]
  },
  {
   "cell_type": "markdown",
   "metadata": {},
   "source": [
    "Monte Carlo"
   ]
  },
  {
   "cell_type": "code",
   "execution_count": 36,
   "metadata": {},
   "outputs": [],
   "source": [
    "def monte_carlo(mc_parms):\n",
    "    \"\"\"Perform a simple Monte-Carlo simulation\n",
    "\n",
    "    Args:\n",
    "       mc_parms (dictionary): Monte-Calro parameters\n",
    "    \n",
    "    Returns:\n",
    "        numpy array: List of escaped photon energies\n",
    "        numpy array: Lost of seed energies of all escaping photons\n",
    "    \"\"\"\n",
    "    \n",
    "    # arrays to store initial and final photon energies\n",
    "    hnu_seed=np.zeros(mc_parms['n_photons'])\n",
    "    hnu_scattered=hnu_seed.copy()\n",
    "\n",
    "    # draw our seed-photon population. Much faster to do this once for all photons\n",
    "    p_photons,x_photons=draw_seed_photons(mc_parms,number=mc_parms['n_photons'])\n",
    "   \n",
    "    # run the scattering code n_photons times\n",
    "    for p_photon,x_photon,i in zip(p_photons,x_photons,range(mc_parms['n_photons'])):\n",
    "        # initial photon four-momentum\n",
    "        # store seed photon energy for future use (calculating Compton-y parameter)\n",
    "        hnu_seed[i]=p_photon[0]*c_light\n",
    "\n",
    "        # keep scattering until absorbed or escaped\n",
    "        scattered=True\n",
    "        while (scattered):\n",
    "            # find next scattering location\n",
    "            x_photon = scatter_location(x_photon,p_photon,mc_parms)\n",
    "            # if it's inside the corona, perform inverse Compton scatter\n",
    "            if (x_photon[2]>=0 and x_photon[2]<=mc_parms['H']):\n",
    "                p_photon=inverse_compton_scatter(p_photon,mc_parms)\n",
    "            else:\n",
    "                scattered=False\n",
    "                if (x_photon[2]<=0):\n",
    "                    p_photon*=0\n",
    "\n",
    "        # store the outgoing photon energy in the array\n",
    "        hnu_scattered[i]=p_photon[0]*c_light\n",
    "\n",
    "    # only return escaped photons and their seed energy\n",
    "    return(hnu_scattered[hnu_scattered > 0],hnu_seed[hnu_scattered > 0])\n",
    "\n",
    "def monte_carlo_2(mc_parms):\n",
    "    \"\"\"Perform a simple Monte-Carlo simulation\n",
    "\n",
    "    Args:\n",
    "       mc_parms (dictionary): Monte-Calro parameters\n",
    "    \n",
    "    Returns:\n",
    "        numpy array: List of escaped photon energies\n",
    "        numpy array: Lost of seed energies of all escaping photons\n",
    "    \"\"\"\n",
    "    \n",
    "    # arrays to store initial and final photon energies\n",
    "    hnu_seed=np.zeros(mc_parms['n_photons'])\n",
    "    hnu_scattered=hnu_seed.copy()\n",
    "\n",
    "    # draw our seed-photon population. Much faster to do this once for all photons\n",
    "    p_photons,x_photons=draw_seed_photons(mc_parms,number=mc_parms['n_photons'])\n",
    "   \n",
    "    # run the scattering code n_photons times\n",
    "    for p_photon,x_photon,i in zip(p_photons,x_photons,range(mc_parms['n_photons'])):\n",
    "        # initial photon four-momentum\n",
    "        # store seed photon energy for future use (calculating Compton-y parameter)\n",
    "        hnu_seed[i]=p_photon[0]*c_light\n",
    "\n",
    "        # keep scattering until absorbed or escaped\n",
    "        p_photon=inverse_compton_scatter(p_photon,mc_parms)\n",
    "        hnu_scattered[i]=p_photon[0]*c_light\n",
    "\n",
    "    # only return escaped photons and their seed energy\n",
    "    return(hnu_scattered[hnu_scattered > 0],hnu_seed[hnu_scattered > 0])"
   ]
  },
  {
   "cell_type": "markdown",
   "metadata": {},
   "source": [
    "Wrapper"
   ]
  },
  {
   "cell_type": "code",
   "execution_count": 37,
   "metadata": {},
   "outputs": [],
   "source": [
    "def plot_mc(mc_parms,bins=None,xlims=None):\n",
    "    \"\"\"Run an MC simulation and plot a histogram of the output. DOES NOT SAVE A PDF :)\n",
    "    \n",
    "    Args:\n",
    "        mc_parms (dictionary): Monte-Carlo parameters\n",
    "    \n",
    "    Paramters:\n",
    "        bins (numpy array): Optional spectral bins\n",
    "        xlims (2-element list, real): plot-limits\n",
    "    \n",
    "    Returns:\n",
    "        numpy array: The energies of all photons escaping the corona\n",
    "        numpy array: The seed-energies of the escaping photons\n",
    "    \"\"\"\n",
    "    \n",
    "    \n",
    "    \n",
    "    # Now run simulation and normalize all outgoing photon energies \n",
    "    # so we can investigate energy gains and losses\n",
    "    hnu_scattered,hnu_seeds=np.array(monte_carlo(mc_parms))/mc_parms['kt_seeds'] \n",
    "    \n",
    "    if (xlims is None):\n",
    "        xlims=[hnu_scattered.min(),hnu_scattered.max()]    \n",
    "    if (bins is None):\n",
    "        bins=np.logspace(np.log10(xlims[0]),np.log10(xlims[1]),num=100)\n",
    "    else:\n",
    "        bins=np.logspace(np.log10(xlims[0]),np.log10(xlims[1]),num=bins)\n",
    "   \n",
    "\n",
    "    fig=plt.figure()\n",
    "    plt.hist(hnu_scattered,bins=bins,log=True,\n",
    "             label=r'$\\tau=${:4.1f}'.format(mc_parms['tau']))\n",
    "    plt.xscale('log')\n",
    "    plt.xlim(xlims[0],xlims[1])\n",
    "    plt.xlabel(r'$h\\nu/h\\nu_{0}$',fontsize=20)\n",
    "    plt.ylabel(r'$N(h\\nu)$',fontsize=20)\n",
    "    plt.legend()\n",
    "    plt.show()\n",
    "    print('Fraction of escaping photons: {0:5.3e}\\n'.format(hnu_scattered.size/mc_parms['n_photons']))\n",
    "    print('Compton y parameter: {0:5.3e}\\n'.format(compton_y(hnu_seeds,hnu_scattered)))\n",
    "    return(hnu_scattered,hnu_seeds)"
   ]
  },
  {
   "cell_type": "markdown",
   "metadata": {},
   "source": [
    "Quick test"
   ]
  },
  {
   "cell_type": "code",
   "execution_count": 38,
   "metadata": {},
   "outputs": [
    {
     "data": {
      "image/png": "[encoded data removed]",
      "text/plain": [
       "<Figure size 432x288 with 1 Axes>"
      ]
     },
     "metadata": {
      "needs_background": "light"
     },
     "output_type": "display_data"
    },
    {
     "name": "stdout",
     "output_type": "stream",
     "text": [
      "Fraction of escaping photons: 8.574e-01\n",
      "\n",
      "Compton y parameter: 2.236e-03\n",
      "\n"
     ]
    }
   ],
   "source": [
    "mc_parms={'n_photons':100000,         # start somewhat small and go up\n",
    "          'kt_seeds':1.6e-9,         # 1 keV input photons\n",
    "          'H':1e7,                   # say H ~ R, and R ~ 100 R_g ~ 3e7 cm\n",
    "          'velocity':3e9,            # 10% speed of light--pretty hot\n",
    "          'tau':0.1,                 # tau ~ 0.1: Small-ish optical depth\n",
    "          'v_dist':f_of_v_mono,      # name of velocity distribution function\n",
    "          'hnu_dist':f_of_hnu_mono,  # name of photon distribution function\n",
    "         }\n",
    "\n",
    "hnu_scattered,hnu_seeds=plot_mc(mc_parms,bins=100)"
   ]
  },
  {
   "cell_type": "markdown",
   "metadata": {},
   "source": [
    "# The electron distribution function\n",
    "Before, we've already created a function that spawns a random electron according to the Maxwell-Jüttner distribution. We will now tweak it so that it can be used as a velocity distribution function in the Monte Carlo simulation."
   ]
  },
  {
   "cell_type": "code",
   "execution_count": 39,
   "metadata": {},
   "outputs": [],
   "source": [
    "# since we used theta_th before, we define\n",
    "mc_parms['kt_electron']=theta_th*8.2e-7 # electron mass in [erg]\n",
    "\n",
    "\n",
    "\n",
    "def f_of_v_MJ(mc_parms):\n",
    "    number=1000\n",
    "    n_electrons=1\n",
    "    gamma = np.linspace(gamma_min,gamma_max,number)\n",
    "    gamma_electron=N_gamma_of_P(gamma,CDF_electrons,n_electrons)\n",
    "    v=np.sqrt(1-1/gamma_electron**2)*c_light\n",
    "    return(v)\n",
    "    "
   ]
  },
  {
   "cell_type": "markdown",
   "metadata": {},
   "source": [
    "# The photon distribution function"
   ]
  },
  {
   "cell_type": "code",
   "execution_count": 40,
   "metadata": {},
   "outputs": [],
   "source": [
    "def f_of_hnu_sync(mc_parms,number=None):\n",
    "    if number is None:\n",
    "        number=1\n",
    "    omega=np.logspace(log_omega_min,log_omega_max,100)\n",
    "    omega = N_omega_of_P(omega,CDF_photons,number)\n",
    "    hnu=hbar*omega\n",
    "    return(hnu)"
   ]
  },
  {
   "cell_type": "markdown",
   "metadata": {},
   "source": [
    "# ICMC with these distributions\n",
    "let's not devide by $h \\nu_0$ actually."
   ]
  },
  {
   "cell_type": "code",
   "execution_count": 41,
   "metadata": {},
   "outputs": [],
   "source": [
    "def plot_mc_edited(mc_parms,bins=None,xlims=None):\n",
    "    \"\"\"Run an MC simulation and plot a histogram of the output. DOES NOT SAVE A PDF :)\n",
    "    \n",
    "    Args:\n",
    "        mc_parms (dictionary): Monte-Carlo parameters\n",
    "    \n",
    "    Paramters:\n",
    "        bins (numpy array): Optional spectral bins\n",
    "        xlims (2-element list, real): plot-limits\n",
    "    \n",
    "    Returns:\n",
    "        numpy array: The energies of all photons escaping the corona\n",
    "        numpy array: The seed-energies of the escaping photons\n",
    "    \"\"\"\n",
    "    \n",
    "    \n",
    "    \n",
    "    # Now run simulation and normalize all outgoing photon energies \n",
    "    # so we can investigate energy gains and losses\n",
    "    hnu_scattered,hnu_seeds=np.array(monte_carlo(mc_parms))/hbar\n",
    "    \n",
    "    if (xlims is None):\n",
    "        xlims=[hnu_scattered.min(),hnu_scattered.max()]    \n",
    "    if (bins is None):\n",
    "        bins=np.logspace(np.log10(xlims[0]),np.log10(xlims[1]),num=100)\n",
    "    else:\n",
    "        bins=np.logspace(np.log10(xlims[0]),np.log10(xlims[1]),num=bins)\n",
    "   \n",
    "\n",
    "    fig=plt.figure()\n",
    "    plt.hist(hnu_scattered,bins=bins,log=True,\n",
    "             label=r'$\\tau=${:4.1f}'.format(mc_parms['tau']))\n",
    "    plt.xscale('log')\n",
    "    plt.xlim(xlims[0],xlims[1])\n",
    "    plt.xlabel(r'$\\omega$',fontsize=20)\n",
    "    plt.ylabel(r'$N(\\omega)$',fontsize=20)\n",
    "    plt.legend()\n",
    "    plt.show()\n",
    "    print('Fraction of escaping photons: {0:5.3e}\\n'.format(hnu_scattered.size/mc_parms['n_photons']))\n",
    "    print('Compton y parameter: {0:5.3e}\\n'.format(compton_y(hnu_seeds,hnu_scattered)))\n",
    "    return(hnu_scattered,hnu_seeds)"
   ]
  },
  {
   "cell_type": "code",
   "execution_count": 42,
   "metadata": {},
   "outputs": [
    {
     "data": {
      "image/png": "[encoded data removed]",
      "text/plain": [
       "<Figure size 432x288 with 1 Axes>"
      ]
     },
     "metadata": {
      "needs_background": "light"
     },
     "output_type": "display_data"
    },
    {
     "name": "stdout",
     "output_type": "stream",
     "text": [
      "Fraction of escaping photons: 8.407e-01\n",
      "\n",
      "Compton y parameter: 2.734e+09\n",
      "\n"
     ]
    }
   ],
   "source": [
    "mc_parms={'n_photons':10000,         # \n",
    "          'kt_seeds':1.6e-9,         # 1 keV input photons. ### I AM NOT USING THESE ###\n",
    "          'H':1e7,                   # say H ~ R, and R ~ 100 R_g ~ 3e7 cm\n",
    "          'velocity':3e9,            # 10% speed of light--pretty hot. ### ONLY FOR F_MONO ###\n",
    "          'tau':0.1,                 # tau\n",
    "          'v_dist':f_of_v_MJ,      # name of velocity distribution function\n",
    "          'hnu_dist':f_of_hnu_sync,  # name of photon distribution function\n",
    "         }\n",
    "\n",
    "hnu_scattered,hnu_seeds=plot_mc_edited(mc_parms,bins=100)"
   ]
  },
  {
   "cell_type": "markdown",
   "metadata": {},
   "source": [
    "# Spherical geometry\n",
    "\n",
    "![title](img/circle.png)\n",
    "\n",
    "For this assignment we want to use a spherical geometry instead of a slab. In order to do this we can modify the scattering conditions from the ICMC tutorial a bit. We will change the scattering conditions in the function _montecarlo()_, such that the photons will scatter as long as they are within the radius $R$."
   ]
  },
  {
   "cell_type": "code",
   "execution_count": 43,
   "metadata": {},
   "outputs": [],
   "source": [
    "def monte_carlo_edited(mc_parms):\n",
    "    \"\"\"Perform a simple Monte-Carlo simulation\n",
    "\n",
    "    Args:\n",
    "       mc_parms (dictionary): Monte-Calro parameters\n",
    "    \n",
    "    Returns:\n",
    "        numpy array: List of escaped photon energies\n",
    "        numpy array: Lost of seed energies of all escaping photons\n",
    "    \"\"\"\n",
    "    \n",
    "    # arrays to store initial and final photon energies\n",
    "    hnu_seed=np.zeros(mc_parms['n_photons'])\n",
    "    hnu_scattered=hnu_seed.copy()\n",
    "\n",
    "    # draw our seed-photon population. Much faster to do this once for all photons\n",
    "    p_photons,x_photons=draw_seed_photons(mc_parms,number=mc_parms['n_photons'])\n",
    "   \n",
    "    # run the scattering code n_photons times\n",
    "    for p_photon,x_photon,i in zip(p_photons,x_photons,range(mc_parms['n_photons'])):\n",
    "        # initial photon four-momentum\n",
    "        # store seed photon energy for future use (calculating Compton-y parameter)\n",
    "        hnu_seed[i]=p_photon[0]*c_light\n",
    "\n",
    "        # keep scattering until absorbed or escaped\n",
    "        scattered=True\n",
    "        while (scattered):\n",
    "            # find next scattering location\n",
    "            x_photon = scatter_location(x_photon,p_photon,mc_parms)\n",
    "            # if it's inside the corona, perform inverse Compton scatter\n",
    "            if (np.sqrt(x_photon[0]**2+x_photon[1]**2+x_photon[2]**2)<=mc_parms['H']): ### LOOK HERE ###\n",
    "                p_photon=inverse_compton_scatter(p_photon,mc_parms)\n",
    "            else:\n",
    "                scattered=False\n",
    "                if (x_photon[2]<=0):\n",
    "                    p_photon*=0\n",
    "\n",
    "        # store the outgoing photon energy in the array\n",
    "        hnu_scattered[i]=p_photon[0]*c_light\n",
    "\n",
    "    # only return escaped photons and their seed energy\n",
    "    return(hnu_scattered[hnu_scattered > 0],hnu_seed[hnu_scattered > 0])"
   ]
  },
  {
   "cell_type": "markdown",
   "metadata": {},
   "source": [
    "calculating the absorption coefficient..\n",
    "\n",
    "$$\n",
    "                \\kappa_\\nu(\\theta)=\\frac{1}{8\\pi m_e \\nu^2}\\int \\frac{N(\\gamma)}{\\gamma^2}\\frac{d}{d\\gamma}[\\gamma^2 P_s(\\nu,\\theta)]d\\gamma.\n",
    "$$\n",
    "I have written everything in terms of $\\omega$ so far, and I know by units that $P(\\nu)=2\\pi P(\\omega)$. So I will be using\n",
    "\n",
    "$$\n",
    "\\kappa_\\nu(\\theta)=\\frac{1}{4 m_e \\nu^2}\\int \\frac{N(\\gamma)}{\\gamma^2}\\frac{d}{d\\gamma}[\\gamma^2  P_s(\\omega,\\theta)]d\\gamma.\n",
    "$$\n",
    "\n",
    "and write things in terms of $\\nu$ from now on."
   ]
  },
  {
   "cell_type": "code",
   "execution_count": 44,
   "metadata": {},
   "outputs": [],
   "source": [
    "#The derivative in the integrand: dfdgamma\n",
    "\n",
    "def dfdgamma(gamma,gamma_min,gamma_max,length_gamma,omega,B,theta):\n",
    "    # I'll be using gradient and interpolate from the numpy package. First, I need to make a gamma linspace.\n",
    "    gamma_vec = np.linspace(gamma_min,gamma_max,length_gamma)\n",
    "    # 'length_gamma' represents the amount of points in gamma, indicative for the accuracy of the derivative.\n",
    "    f=np.zeros(length_gamma)\n",
    "    dgamma = gamma_vec[1]-gamma_vec[0]\n",
    "    \n",
    "    # Now I calculate the derivative using gradient\n",
    "    for i in range(length_gamma):\n",
    "        f[i] = gamma_vec[i]**2*P_sync(gamma_vec[i],omega,B,theta)\n",
    "    dfdgamma_vec = np.gradient(f,dgamma)\n",
    "    \n",
    "    # But I want the derivative to also be a function of gamma, and I do this by using interpolate.\n",
    "    def dfdgamma_of_gamma(gamma):\n",
    "        value=np.interp(gamma,gamma_vec,dfdgamma_vec)\n",
    "        return(value)\n",
    "    \n",
    "    value=dfdgamma_of_gamma(gamma)\n",
    "    \n",
    "    return(value)\n"
   ]
  },
  {
   "cell_type": "markdown",
   "metadata": {},
   "source": [
    "And we use this to get the full integral"
   ]
  },
  {
   "cell_type": "code",
   "execution_count": 45,
   "metadata": {},
   "outputs": [],
   "source": [
    "# to get the full integral\n",
    "\n",
    "def k_nu(gamma_min,gamma_max,nu,B,theta):   \n",
    "    length_gamma=10  # amount of points in gamma\n",
    "    def integrand_3(gamma):\n",
    "        value=N_electron_PDF(gamma)/gamma**2*dfdgamma(gamma,gamma_min,gamma_max,length_gamma,nu*2*np.pi,B,theta) # the derivative needs omega as an input so thats 2 pi nu\n",
    "        return(value)\n",
    "    value,error=quad(integrand_3,gamma_min,gamma_max)\n",
    "    return(N_0*value/(4*m_e*nu**2))\n",
    "  "
   ]
  },
  {
   "cell_type": "markdown",
   "metadata": {},
   "source": [
    "Let's obtain $\\kappa_\\nu$ for some frequencies and make a plot."
   ]
  },
  {
   "cell_type": "code",
   "execution_count": 46,
   "metadata": {},
   "outputs": [
    {
     "name": "stderr",
     "output_type": "stream",
     "text": [
      "C:\\Users\\super\\Anaconda3\\lib\\site-packages\\ipykernel_launcher.py:11: IntegrationWarning: The integral is probably divergent, or slowly convergent.\n",
      "  # This is added back by InteractiveShellApp.init_path()\n"
     ]
    },
    {
     "data": {
      "image/png": "[encoded data removed]",
      "text/plain": [
       "<Figure size 432x288 with 1 Axes>"
      ]
     },
     "metadata": {
      "needs_background": "light"
     },
     "output_type": "display_data"
    }
   ],
   "source": [
    "n = 10 # amount of points in nu\n",
    "\n",
    "log_nu_min = log_omega_min - np.log10(2*np.pi)\n",
    "log_nu_max = log_omega_max - np.log10(2*np.pi)\n",
    "log_nu = np.linspace(log_nu_min,log_nu_max,n)\n",
    "k=np.zeros(n)\n",
    "\n",
    "for i in range(n):\n",
    "    k[i]=k_nu(gamma_min,gamma_max,10**log_nu[i],B,theta)\n",
    "    \n",
    "plt.plot(log_nu,k)\n",
    "plt.xlabel('ν',fontsize=20)\n",
    "plt.yscale('log')\n",
    "plt.ylabel('κ$_ν$ [cm$^{-1}$]',fontsize=20)\n",
    "plt.show()"
   ]
  },
  {
   "cell_type": "markdown",
   "metadata": {},
   "source": [
    "# Specific Intensity\n",
    "\n",
    "$$\n",
    "    I(\\nu)=\\frac{\\epsilon_s(\\nu)}{\\kappa_\\nu}(1-e^{-\\tau_\\nu}),\n",
    "$$\n",
    "with\n",
    "$$\n",
    "\\tau_\\nu = \\kappa_\\nu R.\n",
    "$$\n",
    "I will need to convert the emissivity to $\\nu$, that's $\\epsilon(\\nu)=2\\pi\\epsilon(\\omega)$.\n",
    "And for $R$, let's start with $R=10 r_g \\approx 10^{13}$ cm."
   ]
  },
  {
   "cell_type": "code",
   "execution_count": 47,
   "metadata": {},
   "outputs": [],
   "source": [
    "R=10**13 #cm\n",
    "\n",
    "def Intensity(nu):\n",
    "    value=2*np.pi*P_tot(gamma_min,gamma_max,nu*2*np.pi,B,theta)/k_nu(gamma_min,gamma_max,nu,B,theta)*(1-np.exp(-k_nu(gamma_min,gamma_max,nu,B,theta)*R))\n",
    "    return(value)"
   ]
  },
  {
   "cell_type": "code",
   "execution_count": 48,
   "metadata": {},
   "outputs": [
    {
     "name": "stderr",
     "output_type": "stream",
     "text": [
      "C:\\Users\\super\\Anaconda3\\lib\\site-packages\\ipykernel_launcher.py:11: IntegrationWarning: The integral is probably divergent, or slowly convergent.\n",
      "  # This is added back by InteractiveShellApp.init_path()\n"
     ]
    },
    {
     "data": {
      "text/plain": [
       "Text(0, 0.5, 'I(ν) [erg s$^{-1}$ cm$^{-2}$ st$^{-1}$ Hz$^{-1}$]')"
      ]
     },
     "execution_count": 48,
     "metadata": {},
     "output_type": "execute_result"
    },
    {
     "data": {
      "image/png": "[encoded data removed]",
      "text/plain": [
       "<Figure size 432x288 with 1 Axes>"
      ]
     },
     "metadata": {
      "needs_background": "light"
     },
     "output_type": "display_data"
    }
   ],
   "source": [
    "n = 100 # amount of points in nu\n",
    "log_nu = np.linspace(log_nu_min,log_nu_max,n)\n",
    "I=np.zeros(n)\n",
    "\n",
    "for i in range(n):\n",
    "    I[i]=Intensity(10**log_nu[i])\n",
    " \n",
    "plt.plot(log_nu,I)\n",
    "plt.yscale('log')\n",
    "plt.xlabel('log(ν)',fontsize=20)\n",
    "plt.ylabel('I(ν) [erg s$^{-1}$ cm$^{-2}$ st$^{-1}$ Hz$^{-1}$]',fontsize=20)"
   ]
  },
  {
   "cell_type": "code",
   "execution_count": null,
   "metadata": {},
   "outputs": [],
   "source": []
  }
 ],
 "metadata": {
  "kernelspec": {
   "display_name": "Python 3",
   "language": "python",
   "name": "python3"
  },
  "language_info": {
   "codemirror_mode": {
    "name": "ipython",
    "version": 3
   },
   "file_extension": ".py",
   "mimetype": "text/x-python",
   "name": "python",
   "nbconvert_exporter": "python",
   "pygments_lexer": "ipython3",
   "version": "3.7.3"
  }
 },
 "nbformat": 4,
 "nbformat_minor": 4
}
